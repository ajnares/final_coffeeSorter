{
 "cells": [
  {
   "cell_type": "code",
   "execution_count": 1,
   "id": "5e365887",
   "metadata": {},
   "outputs": [],
   "source": [
    "from tensorflow.compat.v1 import ConfigProto\n",
    "from tensorflow.compat.v1 import InteractiveSession\n",
    "\n",
    "config = ConfigProto()\n",
    "config.gpu_options.per_process_gpu_memory_fraction = 0.5\n",
    "config.gpu_options.allow_growth = True\n",
    "session = InteractiveSession(config=config)"
   ]
  },
  {
   "cell_type": "code",
   "execution_count": 2,
   "id": "03749b0a",
   "metadata": {},
   "outputs": [],
   "source": [
    "import tensorflow as tf\n",
    "from tensorflow.keras.preprocessing.image import ImageDataGenerator"
   ]
  },
  {
   "cell_type": "code",
   "execution_count": 3,
   "id": "3fe6c919",
   "metadata": {},
   "outputs": [],
   "source": [
    "train_datagen = ImageDataGenerator(rescale = 1./255,\n",
    "                                  shear_range = 0.2,\n",
    "                                  zoom_range = 0.2,\n",
    "                                  horizontal_flip = True)"
   ]
  },
  {
   "cell_type": "code",
   "execution_count": 8,
   "id": "750da26a",
   "metadata": {},
   "outputs": [
    {
     "name": "stdout",
     "output_type": "stream",
     "text": [
      "Found 20348 images belonging to 4 classes.\n",
      "Found 10180 images belonging to 4 classes.\n"
     ]
    }
   ],
   "source": [
    "training_set = train_datagen.flow_from_directory('C:/Users/Admin/Desktop/school works/beans/data/train',\n",
    "                                                target_size= (64,64),\n",
    "                                                batch_size = 32,\n",
    "                                                class_mode = 'categorical')\n",
    "\n",
    "test_datagen = ImageDataGenerator(rescale = 1./255)\n",
    "test_set = test_datagen.flow_from_directory('C:/Users/Admin/Desktop/school works/beans/data/test',\n",
    "                                            target_size= (64,64),\n",
    "                                            batch_size = 32,\n",
    "                                            class_mode = 'categorical')"
   ]
  },
  {
   "cell_type": "code",
   "execution_count": 9,
   "id": "8902363c",
   "metadata": {},
   "outputs": [],
   "source": [
    "from tensorflow.keras.layers import Conv2D\n",
    "from tensorflow.keras.layers import Dense"
   ]
  },
  {
   "cell_type": "code",
   "execution_count": 10,
   "id": "72b76844",
   "metadata": {},
   "outputs": [],
   "source": [
    "cnn = tf.keras.models.Sequential()\n",
    "cnn.add(tf.keras.layers.Conv2D(filters=32, padding=\"same\", kernel_size=3, activation='relu', strides=2, input_shape=[64,64,3]))\n",
    "cnn.add(tf.keras.layers.MaxPool2D(pool_size=2,strides=2))\n",
    "cnn.add(tf.keras.layers.Flatten())\n",
    "cnn.add(tf.keras.layers.Dense(units=128, activation='relu'))\n",
    "cnn.add(Dense(4,activation='softmax'))\n",
    "\n",
    "cnn.compile(optimizer ='adam', loss='squared_hinge', metrics =['accuracy'])"
   ]
  },
  {
   "cell_type": "code",
   "execution_count": 11,
   "id": "b779f351",
   "metadata": {
    "scrolled": true
   },
   "outputs": [
    {
     "name": "stdout",
     "output_type": "stream",
     "text": [
      "Model: \"sequential_1\"\n",
      "_________________________________________________________________\n",
      " Layer (type)                Output Shape              Param #   \n",
      "=================================================================\n",
      " conv2d_1 (Conv2D)           (None, 32, 32, 32)        896       \n",
      "                                                                 \n",
      " max_pooling2d_1 (MaxPooling  (None, 16, 16, 32)       0         \n",
      " 2D)                                                             \n",
      "                                                                 \n",
      " flatten_1 (Flatten)         (None, 8192)              0         \n",
      "                                                                 \n",
      " dense_2 (Dense)             (None, 128)               1048704   \n",
      "                                                                 \n",
      " dense_3 (Dense)             (None, 4)                 516       \n",
      "                                                                 \n",
      "=================================================================\n",
      "Total params: 1,050,116\n",
      "Trainable params: 1,050,116\n",
      "Non-trainable params: 0\n",
      "_________________________________________________________________\n"
     ]
    }
   ],
   "source": [
    "cnn.summary()"
   ]
  },
  {
   "cell_type": "code",
   "execution_count": 12,
   "id": "1f524068",
   "metadata": {},
   "outputs": [
    {
     "name": "stdout",
     "output_type": "stream",
     "text": [
      "Epoch 1/20\n",
      "636/636 [==============================] - 776s 1s/step - loss: 1.0750 - accuracy: 0.6663 - val_loss: 1.1268 - val_accuracy: 0.5687\n",
      "Epoch 2/20\n",
      "636/636 [==============================] - 782s 1s/step - loss: 0.9004 - accuracy: 0.8559 - val_loss: 1.0361 - val_accuracy: 0.6892\n",
      "Epoch 3/20\n",
      "636/636 [==============================] - 801s 1s/step - loss: 0.8600 - accuracy: 0.8931 - val_loss: 1.0271 - val_accuracy: 0.7051\n",
      "Epoch 4/20\n",
      "636/636 [==============================] - 766s 1s/step - loss: 0.8347 - accuracy: 0.9189 - val_loss: 1.0494 - val_accuracy: 0.6725\n",
      "Epoch 5/20\n",
      "636/636 [==============================] - 782s 1s/step - loss: 0.8152 - accuracy: 0.9409 - val_loss: 1.0176 - val_accuracy: 0.7228\n",
      "Epoch 6/20\n",
      "636/636 [==============================] - 751s 1s/step - loss: 0.8061 - accuracy: 0.9479 - val_loss: 1.0594 - val_accuracy: 0.6805\n",
      "Epoch 7/20\n",
      "636/636 [==============================] - 785s 1s/step - loss: 0.8019 - accuracy: 0.9519 - val_loss: 1.0740 - val_accuracy: 0.6639\n",
      "Epoch 8/20\n",
      "636/636 [==============================] - 773s 1s/step - loss: 0.7923 - accuracy: 0.9614 - val_loss: 1.0497 - val_accuracy: 0.6865\n",
      "Epoch 9/20\n",
      "636/636 [==============================] - 800s 1s/step - loss: 0.7898 - accuracy: 0.9635 - val_loss: 1.0294 - val_accuracy: 0.7028\n",
      "Epoch 10/20\n",
      "636/636 [==============================] - 762s 1s/step - loss: 0.7883 - accuracy: 0.9636 - val_loss: 1.0733 - val_accuracy: 0.6671\n",
      "Epoch 11/20\n",
      "636/636 [==============================] - 770s 1s/step - loss: 0.7848 - accuracy: 0.9671 - val_loss: 1.0469 - val_accuracy: 0.7035\n",
      "Epoch 12/20\n",
      "636/636 [==============================] - 788s 1s/step - loss: 0.7836 - accuracy: 0.9677 - val_loss: 1.0707 - val_accuracy: 0.6649\n",
      "Epoch 13/20\n",
      "636/636 [==============================] - 790s 1s/step - loss: 0.7815 - accuracy: 0.9700 - val_loss: 1.0472 - val_accuracy: 0.6890\n",
      "Epoch 14/20\n",
      "636/636 [==============================] - 740s 1s/step - loss: 0.7823 - accuracy: 0.9689 - val_loss: 1.0761 - val_accuracy: 0.6610\n",
      "Epoch 15/20\n",
      "636/636 [==============================] - 774s 1s/step - loss: 0.7826 - accuracy: 0.9684 - val_loss: 1.0660 - val_accuracy: 0.6773\n",
      "Epoch 16/20\n",
      "636/636 [==============================] - 799s 1s/step - loss: 0.7802 - accuracy: 0.9700 - val_loss: 1.0805 - val_accuracy: 0.6577\n",
      "Epoch 17/20\n",
      "636/636 [==============================] - 836s 1s/step - loss: 0.7804 - accuracy: 0.9703 - val_loss: 1.0828 - val_accuracy: 0.6522\n",
      "Epoch 18/20\n",
      "636/636 [==============================] - 745s 1s/step - loss: 0.7780 - accuracy: 0.9728 - val_loss: 1.0820 - val_accuracy: 0.6578\n",
      "Epoch 19/20\n",
      "636/636 [==============================] - 766s 1s/step - loss: 0.7777 - accuracy: 0.9730 - val_loss: 1.0320 - val_accuracy: 0.7103\n",
      "Epoch 20/20\n",
      "636/636 [==============================] - 763s 1s/step - loss: 0.7778 - accuracy: 0.9727 - val_loss: 1.0520 - val_accuracy: 0.6917\n"
     ]
    }
   ],
   "source": [
    "cnn.compile(optimizer ='adam',  loss='squared_hinge', metrics =['accuracy'])\n",
    "r=cnn.fit(x = training_set,validation_data = test_set, epochs = 20)"
   ]
  },
  {
   "cell_type": "code",
   "execution_count": 13,
   "id": "e7c925c6",
   "metadata": {},
   "outputs": [
    {
     "data": {
      "image/png": "[encoded data removed]",
      "text/plain": [
       "<Figure size 432x288 with 1 Axes>"
      ]
     },
     "metadata": {
      "needs_background": "light"
     },
     "output_type": "display_data"
    },
    {
     "data": {
      "image/png": "[encoded data removed]",
      "text/plain": [
       "<Figure size 432x288 with 1 Axes>"
      ]
     },
     "metadata": {
      "needs_background": "light"
     },
     "output_type": "display_data"
    },
    {
     "data": {
      "text/plain": [
       "<Figure size 432x288 with 0 Axes>"
      ]
     },
     "metadata": {},
     "output_type": "display_data"
    }
   ],
   "source": [
    "import matplotlib.pyplot as plt\n",
    "plt.plot(r.history['loss'], label='train loss')\n",
    "plt.plot(r.history['val_loss'], label='val loss')\n",
    "plt.legend()\n",
    "plt.show()\n",
    "plt.savefig('LossVal_loss')\n",
    "\n",
    "# plot the accuracy\n",
    "plt.plot(r.history['accuracy'], label='train acc')\n",
    "plt.plot(r.history['val_accuracy'], label='val acc')\n",
    "plt.legend()\n",
    "plt.show()\n",
    "plt.savefig('AccVal_acc')"
   ]
  },
  {
   "cell_type": "code",
   "execution_count": 14,
   "id": "3c14c7ea",
   "metadata": {},
   "outputs": [],
   "source": [
    "from tensorflow.keras.models import load_model\n",
    "\n",
    "cnn.save('model_cnn_beans.h5')"
   ]
  },
  {
   "cell_type": "code",
   "execution_count": 15,
   "id": "eb75f0cf",
   "metadata": {},
   "outputs": [],
   "source": [
    "from tensorflow.keras.models import load_model\n",
    " \n",
    "# load model\n",
    "model = load_model('model_cnn_beans.h5')"
   ]
  },
  {
   "cell_type": "code",
   "execution_count": 16,
   "id": "627f4692",
   "metadata": {},
   "outputs": [
    {
     "name": "stdout",
     "output_type": "stream",
     "text": [
      "Model: \"sequential_1\"\n",
      "_________________________________________________________________\n",
      " Layer (type)                Output Shape              Param #   \n",
      "=================================================================\n",
      " conv2d_1 (Conv2D)           (None, 32, 32, 32)        896       \n",
      "                                                                 \n",
      " max_pooling2d_1 (MaxPooling  (None, 16, 16, 32)       0         \n",
      " 2D)                                                             \n",
      "                                                                 \n",
      " flatten_1 (Flatten)         (None, 8192)              0         \n",
      "                                                                 \n",
      " dense_2 (Dense)             (None, 128)               1048704   \n",
      "                                                                 \n",
      " dense_3 (Dense)             (None, 4)                 516       \n",
      "                                                                 \n",
      "=================================================================\n",
      "Total params: 1,050,116\n",
      "Trainable params: 1,050,116\n",
      "Non-trainable params: 0\n",
      "_________________________________________________________________\n"
     ]
    }
   ],
   "source": [
    "model.summary()"
   ]
  },
  {
   "cell_type": "code",
   "execution_count": null,
   "id": "4fc9ab79",
   "metadata": {},
   "outputs": [],
   "source": []
  }
 ],
 "metadata": {
  "kernelspec": {
   "display_name": "Python 3 (ipykernel)",
   "language": "python",
   "name": "python3"
  },
  "language_info": {
   "codemirror_mode": {
    "name": "ipython",
    "version": 3
   },
   "file_extension": ".py",
   "mimetype": "text/x-python",
   "name": "python",
   "nbconvert_exporter": "python",
   "pygments_lexer": "ipython3",
   "version": "3.10.10"
  }
 },
 "nbformat": 4,
 "nbformat_minor": 5
}
